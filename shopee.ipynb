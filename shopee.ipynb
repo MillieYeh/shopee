username = ''
password = ''
from selenium import webdriver
from selenium.webdriver.common.by import By
driver = webdriver.Chrome('/opt/local/common/chromedriver')
driver.get('https://shopee.tw/buyer/login?next=https%3A%2F%2Fshopee.tw%2F')
driver.find_element(By.CSS_SELECTOR, 'input[name="loginKey"]').send_keys(username)
driver.find_element(By.CSS_SELECTOR, 'input[name="password"]').send_keys(password)
driver.find_elements(By.CSS_SELECTOR,'button')[2].text
driver.find_elements(By.CSS_SELECTOR,'button')[2].click()
driver.find_element(By.CSS_SELECTOR, 'button[class^="pcmall-dailycheckin"]').click()
